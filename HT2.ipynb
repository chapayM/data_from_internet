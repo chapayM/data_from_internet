{
 "cells": [
  {
   "cell_type": "markdown",
   "id": "dad179cc",
   "metadata": {},
   "source": [
    "Написать приложение, которое забирает основные новости в портала Lenta.ru. Сохранить в json информация о название новости, ссылке на основной текст и дату новости"
   ]
  },
  {
   "cell_type": "code",
   "execution_count": 75,
   "id": "97e9d413",
   "metadata": {},
   "outputs": [],
   "source": [
    "import requests\n",
    "import json\n",
    "from datetime import datetime\n",
    "from lxml import html"
   ]
  },
  {
   "cell_type": "code",
   "execution_count": 76,
   "id": "642490a6",
   "metadata": {},
   "outputs": [],
   "source": [
    "url = \"https://lenta.ru/\"\n",
    "headers = {\n",
    "            'User-Agent': 'Mozilla/5.0 (Windows NT 10.0; Win64; x64) AppleWebKit/537.36 (KHTML, like Gecko) Chrome/110.0.0.0 Safari/537.36',\n",
    "}\n",
    "\n",
    "r = requests.get(url=url, headers=headers)\n"
   ]
  },
  {
   "cell_type": "code",
   "execution_count": 77,
   "id": "0f16db69",
   "metadata": {},
   "outputs": [],
   "source": [
    "dom = html.fromstring(r.text)"
   ]
  },
  {
   "cell_type": "code",
   "execution_count": 86,
   "id": "df046590",
   "metadata": {},
   "outputs": [],
   "source": [
    "#Главная новость\n",
    "name_head_news = dom.xpath(\"//div[@class='topnews']/div/div/a/div[@class='card-big__titles']/h3/text()\")\n",
    "link_head_news = dom.xpath(\"//div[@class='topnews']/div/div/a/@href\")\n",
    "date_head_news = dom.xpath(\"//div[@class='topnews']/div/div/a/div/time/text()\")\n",
    "\n",
    "#Другие главные новости\n",
    "name_other_top_news =dom.xpath(\"//div[@class='topnews']/div/a/div/span[@class='card-mini__title']/text()\")\n",
    "link_other_top_news =dom.xpath(\"//div[@class='topnews']/div/a/@href\")\n",
    "date_other_top_news =dom.xpath(\"//div[@class='topnews']/div/a/div/div/time/text()\")\n",
    "\n",
    "#Остальные новости выделенные\n",
    "name_bold_another_news =dom.xpath(\"//a[@class='card-big _longgrid']/div/h3/text()\")\n",
    "link_bold_another_news =dom.xpath(\"//a[@class='card-big _longgrid']/@href\")\n",
    "date_bold_another_news =dom.xpath(\"//a[@class='card-big _longgrid']/div/time/text()\")\n",
    "\n",
    "#Остальные новости\n",
    "name_another_news =dom.xpath(\"//a[@class='card-mini _longgrid']/div/span/text()\")\n",
    "link_another_news =dom.xpath(\"//a[@class='card-mini _longgrid']/@href\")\n",
    "date_another_news =dom.xpath(\"//a[@class='card-mini _longgrid']/div/div/time/text()\")"
   ]
  },
  {
   "cell_type": "code",
   "execution_count": 88,
   "id": "710de9b4",
   "metadata": {},
   "outputs": [],
   "source": [
    "lenta_ru_news = {'datetime':str(datetime.now())}\n",
    "\n",
    "for i, el in enumerate(name_head_news):\n",
    "    if link_head_news[i-1][0]=='/':\n",
    "        link_head_news[i-1] = 'https://www.lenta.ru'+link_head_news[i-1]\n",
    "    lenta_ru_news[el] = {\n",
    "                                    'news_type':'head_news',\n",
    "                                    'link':link_head_news[i-1],\n",
    "                                    'date':date_head_news[i-1]\n",
    "    }\n",
    "    \n",
    "for i, el in enumerate(name_other_top_news):\n",
    "    if link_other_top_news[i-1][0]=='/':\n",
    "        link_other_top_news[i-1] = 'https://www.lenta.ru'+link_other_top_news[i-1]\n",
    "    lenta_ru_news[el] = {\n",
    "                                    'news_type':'other_top_news',\n",
    "                                    'link':link_other_top_news[i-1],\n",
    "                                    'date':date_other_top_news[i-1]\n",
    "    }\n",
    "    \n",
    "for i, el in enumerate(name_bold_another_news):\n",
    "    if link_bold_another_news[i-1][0]=='/':\n",
    "        link_bold_another_news[i-1] = 'https://www.lenta.ru'+link_bold_another_news[i-1]\n",
    "    lenta_ru_news[el] = {\n",
    "                                    'news_type':'bold_another_news',\n",
    "                                    'link':link_bold_another_news[i-1],\n",
    "                                    'date':date_bold_another_news[i-1]\n",
    "    }\n",
    "    \n",
    "for i, el in enumerate(name_another_news):\n",
    "    if link_another_news[i-1][0]=='/':\n",
    "        link_another_news[i-1] = 'https://www.lenta.ru'+link_another_news[i-1]\n",
    "    lenta_ru_news[el] = {\n",
    "                                    'news_type':'another_news',\n",
    "                                    'link':link_another_news[i-1],\n",
    "                                    'date':date_another_news[i-1]\n",
    "    }"
   ]
  },
  {
   "cell_type": "code",
   "execution_count": 98,
   "id": "cd3ed145",
   "metadata": {},
   "outputs": [],
   "source": [
    "name = 'lenta_ru_news_'+str(datetime.now())[:10]+'.json'\n",
    "\n",
    "with open(name, 'w', encoding='utf-8') as outfile:\n",
    "    json.dump(lenta_ru_news, outfile, ensure_ascii=False)\n"
   ]
  }
 ],
 "metadata": {
  "kernelspec": {
   "display_name": "Python 3 (ipykernel)",
   "language": "python",
   "name": "python3"
  },
  "language_info": {
   "codemirror_mode": {
    "name": "ipython",
    "version": 3
   },
   "file_extension": ".py",
   "mimetype": "text/x-python",
   "name": "python",
   "nbconvert_exporter": "python",
   "pygments_lexer": "ipython3",
   "version": "3.9.12"
  }
 },
 "nbformat": 4,
 "nbformat_minor": 5
}
